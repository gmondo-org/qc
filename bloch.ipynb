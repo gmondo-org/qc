{
 "cells": [
  {
   "cell_type": "code",
   "execution_count": null,
   "metadata": {},
   "outputs": [],
   "source": [
    "import matplotlib.pyplot as plt\n",
    "from mpl_toolkits.mplot3d import Axes3D\n",
    "import numpy as np\n",
    "H=1/np.sqrt(2)*np.matrix( ((1,1), (1, -1)) )\n",
    "H"
   ]
  },
  {
   "cell_type": "code",
   "execution_count": null,
   "metadata": {},
   "outputs": [],
   "source": [
    "th=0\n",
    "ph=0\n",
    "x=np.sin(th)*np.cos(ph)\n",
    "y=np.sin(th)*np.sin(ph)\n",
    "z=np.cos(th)\n",
    "V=np.array([[x,y,z]])\n",
    "a=np.cos(th/2)\n",
    "b=np.exp(1j*ph)*np.sin(th/2)\n",
    "psi=np.array( ((a), (b)) )*H\n",
    "psi"
   ]
  },
  {
   "cell_type": "code",
   "execution_count": null,
   "metadata": {},
   "outputs": [],
   "source": [
    "a=psi.item((0,0))\n",
    "b=psi.item((0,1))\n",
    "th=np.arccos(2*a)\n",
    "ph=np.log(b/np.sin(th/2))/1j\n",
    "x=np.sin(th)*np.cos(ph)\n",
    "y=np.sin(th)*np.sin(ph)\n",
    "z=np.cos(th)\n",
    "V=np.vstack([V,np.array([[x.real,y.real,z.real]])])\n",
    "V"
   ]
  },
  {
   "cell_type": "code",
   "execution_count": null,
   "metadata": {},
   "outputs": [],
   "source": [
    "fig = plt.figure()\n",
    "ax = fig.gca(projection='3d')\n",
    "ax.set_xlim3d(-2, 2)\n",
    "ax.set_ylim3d(-2, 2)\n",
    "ax.set_zlim3d(-2, 2)\n",
    "origin = [0], [0], [0] # origin point\n",
    "ax.quiver(*origin, V[:,0], V[:,1], V[:,2], color=['g','r'])"
   ]
  }
 ],
 "metadata": {
  "kernelspec": {
   "display_name": "Python 3",
   "language": "python",
   "name": "python3"
  },
  "language_info": {
   "codemirror_mode": {
    "name": "ipython",
    "version": 3
   },
   "file_extension": ".py",
   "mimetype": "text/x-python",
   "name": "python",
   "nbconvert_exporter": "python",
   "pygments_lexer": "ipython3",
   "version": "3.7.1"
  }
 },
 "nbformat": 4,
 "nbformat_minor": 2
}
