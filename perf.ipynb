{
 "cells": [
  {
   "cell_type": "code",
   "execution_count": null,
   "metadata": {},
   "outputs": [],
   "source": [
    "import numpy as np \n",
    "import matplotlib.pyplot as plt"
   ]
  },
  {
   "cell_type": "code",
   "execution_count": null,
   "metadata": {},
   "outputs": [],
   "source": [
    "# n=number of regions\n",
    "n = np.arange(10, 100, 5) \n",
    "plt.title('Map coloring')\n",
    "plt.grid(True)\n",
    "plt.xlabel('regions')\n",
    "plt.ylabel('operations')\n",
    "# red squares for best traditional algorithm and green triangles for quantum one \n",
    "plt.semilogy(n, 2**(n*np.log10(4)), 'rs', n, np.sqrt(2**(n*np.log10(4))), 'g^') \n",
    "plt.gca().legend(('classic','Grover'))\n",
    "plt.show()"
   ]
  },
  {
   "cell_type": "code",
   "execution_count": null,
   "metadata": {},
   "outputs": [],
   "source": [
    "# n-digit integer at 1 interval\n",
    "n = np.arange(20, 300, 5)\n",
    "plt.title('Integer factorization')\n",
    "plt.grid(True)\n",
    "plt.xlabel('integer digits')\n",
    "plt.ylabel('operations')\n",
    "# red squares for best traditional algorithm and green triangles for Shor algorithm \n",
    "plt.semilogy(n, np.exp(n**1/3), 'rs', label='classic') \n",
    "plt.semilogy(n, n**3, 'g^', label='Shor') \n",
    "plt.axvline(x=230,color='r',linestyle='--',label='classic record')\n",
    "plt.legend()\n",
    "plt.show()"
   ]
  }
 ],
 "metadata": {
  "kernelspec": {
   "display_name": "Python 3",
   "language": "python",
   "name": "python3"
  },
  "language_info": {
   "codemirror_mode": {
    "name": "ipython",
    "version": 3
   },
   "file_extension": ".py",
   "mimetype": "text/x-python",
   "name": "python",
   "nbconvert_exporter": "python",
   "pygments_lexer": "ipython3",
   "version": "3.7.1"
  }
 },
 "nbformat": 4,
 "nbformat_minor": 2
}
